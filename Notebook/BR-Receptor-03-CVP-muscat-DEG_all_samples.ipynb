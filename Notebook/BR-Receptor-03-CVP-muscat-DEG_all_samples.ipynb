{
 "cells": [
  {
   "cell_type": "markdown",
   "metadata": {
    "tags": []
   },
   "source": [
    "## Check pCVP2-BRI1-mCitrine specificity in scRNA-seq\n",
    "\n",
    "Here we perform analysis for new and published samples against the custom reference. The results are exported and inlcuded in the SI table. "
   ]
  },
  {
   "cell_type": "code",
   "execution_count": 1,
   "metadata": {},
   "outputs": [
    {
     "name": "stderr",
     "output_type": "stream",
     "text": [
      "── \u001b[1mAttaching core tidyverse packages\u001b[22m ──────────────────────── tidyverse 2.0.0 ──\n",
      "\u001b[32m✔\u001b[39m \u001b[34mdplyr    \u001b[39m 1.1.0     \u001b[32m✔\u001b[39m \u001b[34mreadr    \u001b[39m 2.1.4\n",
      "\u001b[32m✔\u001b[39m \u001b[34mforcats  \u001b[39m 1.0.0     \u001b[32m✔\u001b[39m \u001b[34mstringr  \u001b[39m 1.5.0\n",
      "\u001b[32m✔\u001b[39m \u001b[34mggplot2  \u001b[39m 3.4.1     \u001b[32m✔\u001b[39m \u001b[34mtibble   \u001b[39m 3.1.8\n",
      "\u001b[32m✔\u001b[39m \u001b[34mlubridate\u001b[39m 1.9.2     \u001b[32m✔\u001b[39m \u001b[34mtidyr    \u001b[39m 1.3.0\n",
      "\u001b[32m✔\u001b[39m \u001b[34mpurrr    \u001b[39m 1.0.1     \n",
      "── \u001b[1mConflicts\u001b[22m ────────────────────────────────────────── tidyverse_conflicts() ──\n",
      "\u001b[31m✖\u001b[39m \u001b[34mdplyr\u001b[39m::\u001b[32mfilter()\u001b[39m masks \u001b[34mstats\u001b[39m::filter()\n",
      "\u001b[31m✖\u001b[39m \u001b[34mdplyr\u001b[39m::\u001b[32mlag()\u001b[39m    masks \u001b[34mstats\u001b[39m::lag()\n",
      "\u001b[36mℹ\u001b[39m Use the conflicted package (\u001b[3m\u001b[34m<http://conflicted.r-lib.org/>\u001b[39m\u001b[23m) to force all conflicts to become errors\n",
      "Attaching SeuratObject\n",
      "\n",
      "\n",
      "Attaching package: ‘cowplot’\n",
      "\n",
      "\n",
      "The following object is masked from ‘package:lubridate’:\n",
      "\n",
      "    stamp\n",
      "\n",
      "\n",
      "Loading required package: grid\n",
      "\n",
      "========================================\n",
      "ComplexHeatmap version 2.14.0\n",
      "Bioconductor page: http://bioconductor.org/packages/ComplexHeatmap/\n",
      "Github page: https://github.com/jokergoo/ComplexHeatmap\n",
      "Documentation: http://jokergoo.github.io/ComplexHeatmap-reference\n",
      "\n",
      "If you use it in published research, please cite either one:\n",
      "- Gu, Z. Complex Heatmap Visualization. iMeta 2022.\n",
      "- Gu, Z. Complex heatmaps reveal patterns and correlations in multidimensional \n",
      "    genomic data. Bioinformatics 2016.\n",
      "\n",
      "\n",
      "The new InteractiveComplexHeatmap package can directly export static \n",
      "complex heatmaps into an interactive Shiny app with zero effort. Have a try!\n",
      "\n",
      "This message can be suppressed by:\n",
      "  suppressPackageStartupMessages(library(ComplexHeatmap))\n",
      "========================================\n",
      "\n",
      "\n",
      "========================================\n",
      "circlize version 0.4.15\n",
      "CRAN page: https://cran.r-project.org/package=circlize\n",
      "Github page: https://github.com/jokergoo/circlize\n",
      "Documentation: https://jokergoo.github.io/circlize_book/book/\n",
      "\n",
      "If you use it in published research, please cite:\n",
      "Gu, Z. circlize implements and enhances circular visualization\n",
      "  in R. Bioinformatics 2014.\n",
      "\n",
      "This message can be suppressed by:\n",
      "  suppressPackageStartupMessages(library(circlize))\n",
      "========================================\n",
      "\n",
      "\n",
      "Loading required package: SingleCellExperiment\n",
      "\n",
      "Loading required package: SummarizedExperiment\n",
      "\n",
      "Loading required package: MatrixGenerics\n",
      "\n",
      "Loading required package: matrixStats\n",
      "\n",
      "\n",
      "Attaching package: ‘matrixStats’\n",
      "\n",
      "\n",
      "The following object is masked from ‘package:dplyr’:\n",
      "\n",
      "    count\n",
      "\n",
      "\n",
      "\n",
      "Attaching package: ‘MatrixGenerics’\n",
      "\n",
      "\n",
      "The following objects are masked from ‘package:matrixStats’:\n",
      "\n",
      "    colAlls, colAnyNAs, colAnys, colAvgsPerRowSet, colCollapse,\n",
      "    colCounts, colCummaxs, colCummins, colCumprods, colCumsums,\n",
      "    colDiffs, colIQRDiffs, colIQRs, colLogSumExps, colMadDiffs,\n",
      "    colMads, colMaxs, colMeans2, colMedians, colMins, colOrderStats,\n",
      "    colProds, colQuantiles, colRanges, colRanks, colSdDiffs, colSds,\n",
      "    colSums2, colTabulates, colVarDiffs, colVars, colWeightedMads,\n",
      "    colWeightedMeans, colWeightedMedians, colWeightedSds,\n",
      "    colWeightedVars, rowAlls, rowAnyNAs, rowAnys, rowAvgsPerColSet,\n",
      "    rowCollapse, rowCounts, rowCummaxs, rowCummins, rowCumprods,\n",
      "    rowCumsums, rowDiffs, rowIQRDiffs, rowIQRs, rowLogSumExps,\n",
      "    rowMadDiffs, rowMads, rowMaxs, rowMeans2, rowMedians, rowMins,\n",
      "    rowOrderStats, rowProds, rowQuantiles, rowRanges, rowRanks,\n",
      "    rowSdDiffs, rowSds, rowSums2, rowTabulates, rowVarDiffs, rowVars,\n",
      "    rowWeightedMads, rowWeightedMeans, rowWeightedMedians,\n",
      "    rowWeightedSds, rowWeightedVars\n",
      "\n",
      "\n",
      "Loading required package: GenomicRanges\n",
      "\n",
      "Loading required package: stats4\n",
      "\n",
      "Loading required package: BiocGenerics\n",
      "\n",
      "\n",
      "Attaching package: ‘BiocGenerics’\n",
      "\n",
      "\n",
      "The following object is masked from ‘package:limma’:\n",
      "\n",
      "    plotMA\n",
      "\n",
      "\n",
      "The following objects are masked from ‘package:lubridate’:\n",
      "\n",
      "    intersect, setdiff, union\n",
      "\n",
      "\n",
      "The following objects are masked from ‘package:dplyr’:\n",
      "\n",
      "    combine, intersect, setdiff, union\n",
      "\n",
      "\n",
      "The following objects are masked from ‘package:stats’:\n",
      "\n",
      "    IQR, mad, sd, var, xtabs\n",
      "\n",
      "\n",
      "The following objects are masked from ‘package:base’:\n",
      "\n",
      "    anyDuplicated, aperm, append, as.data.frame, basename, cbind,\n",
      "    colnames, dirname, do.call, duplicated, eval, evalq, Filter, Find,\n",
      "    get, grep, grepl, intersect, is.unsorted, lapply, Map, mapply,\n",
      "    match, mget, order, paste, pmax, pmax.int, pmin, pmin.int,\n",
      "    Position, rank, rbind, Reduce, rownames, sapply, setdiff, sort,\n",
      "    table, tapply, union, unique, unsplit, which.max, which.min\n",
      "\n",
      "\n",
      "Loading required package: S4Vectors\n",
      "\n",
      "\n",
      "Attaching package: ‘S4Vectors’\n",
      "\n",
      "\n",
      "The following objects are masked from ‘package:lubridate’:\n",
      "\n",
      "    second, second<-\n",
      "\n",
      "\n",
      "The following objects are masked from ‘package:dplyr’:\n",
      "\n",
      "    first, rename\n",
      "\n",
      "\n",
      "The following object is masked from ‘package:tidyr’:\n",
      "\n",
      "    expand\n",
      "\n",
      "\n",
      "The following objects are masked from ‘package:base’:\n",
      "\n",
      "    expand.grid, I, unname\n",
      "\n",
      "\n",
      "Loading required package: IRanges\n",
      "\n",
      "\n",
      "Attaching package: ‘IRanges’\n",
      "\n",
      "\n",
      "The following object is masked from ‘package:lubridate’:\n",
      "\n",
      "    %within%\n",
      "\n",
      "\n",
      "The following objects are masked from ‘package:dplyr’:\n",
      "\n",
      "    collapse, desc, slice\n",
      "\n",
      "\n",
      "The following object is masked from ‘package:purrr’:\n",
      "\n",
      "    reduce\n",
      "\n",
      "\n",
      "Loading required package: GenomeInfoDb\n",
      "\n",
      "Loading required package: Biobase\n",
      "\n",
      "Welcome to Bioconductor\n",
      "\n",
      "    Vignettes contain introductory material; view with\n",
      "    'browseVignettes()'. To cite Bioconductor, see\n",
      "    'citation(\"Biobase\")', and for packages 'citation(\"pkgname\")'.\n",
      "\n",
      "\n",
      "\n",
      "Attaching package: ‘Biobase’\n",
      "\n",
      "\n",
      "The following object is masked from ‘package:MatrixGenerics’:\n",
      "\n",
      "    rowMedians\n",
      "\n",
      "\n",
      "The following objects are masked from ‘package:matrixStats’:\n",
      "\n",
      "    anyMissing, rowMedians\n",
      "\n",
      "\n",
      "\n",
      "Attaching package: ‘SummarizedExperiment’\n",
      "\n",
      "\n",
      "The following object is masked from ‘package:SeuratObject’:\n",
      "\n",
      "    Assays\n",
      "\n",
      "\n",
      "The following object is masked from ‘package:Seurat’:\n",
      "\n",
      "    Assays\n",
      "\n",
      "\n",
      "Loading required package: scuttle\n",
      "\n"
     ]
    }
   ],
   "source": [
    "library(tidyverse)\n",
    "library(Seurat)\n",
    "library(cowplot)\n",
    "library(ComplexHeatmap)\n",
    "library(circlize)\n",
    "library(GeneOverlap)\n",
    "library(gprofiler2)\n",
    "library(ggrepel)\n",
    "library(ggplot2)\n",
    "library(muscat)\n",
    "library(purrr)\n",
    "library(limma)\n",
    "library(scran)"
   ]
  },
  {
   "cell_type": "code",
   "execution_count": 2,
   "metadata": {},
   "outputs": [],
   "source": [
    "library(future)\n",
    "#for 200gb ram \n",
    "options(future.globals.maxSize = 200000 * 1024^2)"
   ]
  },
  {
   "cell_type": "code",
   "execution_count": 3,
   "metadata": {},
   "outputs": [
    {
     "data": {
      "text/plain": [
       "R version 4.2.2 (2022-10-31)\n",
       "Platform: x86_64-conda-linux-gnu (64-bit)\n",
       "Running under: AlmaLinux 9.3 (Shamrock Pampas Cat)\n",
       "\n",
       "Matrix products: default\n",
       "BLAS/LAPACK: /hpc/group/pbenfeylab/tmn23/miniconda3/envs/muscat/lib/libopenblasp-r0.3.21.so\n",
       "\n",
       "locale:\n",
       " [1] LC_CTYPE=en_US.UTF-8       LC_NUMERIC=C              \n",
       " [3] LC_TIME=en_US.UTF-8        LC_COLLATE=en_US.UTF-8    \n",
       " [5] LC_MONETARY=en_US.UTF-8    LC_MESSAGES=en_US.UTF-8   \n",
       " [7] LC_PAPER=en_US.UTF-8       LC_NAME=C                 \n",
       " [9] LC_ADDRESS=C               LC_TELEPHONE=C            \n",
       "[11] LC_MEASUREMENT=en_US.UTF-8 LC_IDENTIFICATION=C       \n",
       "\n",
       "attached base packages:\n",
       "[1] stats4    grid      stats     graphics  grDevices utils     datasets \n",
       "[8] methods   base     \n",
       "\n",
       "other attached packages:\n",
       " [1] future_1.31.0               scran_1.26.0               \n",
       " [3] scuttle_1.8.0               SingleCellExperiment_1.20.0\n",
       " [5] SummarizedExperiment_1.28.0 Biobase_2.58.0             \n",
       " [7] GenomicRanges_1.50.0        GenomeInfoDb_1.34.8        \n",
       " [9] IRanges_2.32.0              S4Vectors_0.36.0           \n",
       "[11] BiocGenerics_0.44.0         MatrixGenerics_1.10.0      \n",
       "[13] matrixStats_0.63.0          limma_3.54.0               \n",
       "[15] muscat_1.12.0               ggrepel_0.9.3              \n",
       "[17] gprofiler2_0.2.1            GeneOverlap_1.34.0         \n",
       "[19] circlize_0.4.15             ComplexHeatmap_2.14.0      \n",
       "[21] cowplot_1.1.1               SeuratObject_4.1.3         \n",
       "[23] Seurat_4.3.0                lubridate_1.9.2            \n",
       "[25] forcats_1.0.0               stringr_1.5.0              \n",
       "[27] dplyr_1.1.0                 purrr_1.0.1                \n",
       "[29] readr_2.1.4                 tidyr_1.3.0                \n",
       "[31] tibble_3.1.8                ggplot2_3.4.1              \n",
       "[33] tidyverse_2.0.0            \n",
       "\n",
       "loaded via a namespace (and not attached):\n",
       "  [1] pbdZMQ_0.3-9              scattermore_0.8          \n",
       "  [3] bit64_4.0.5               irlba_2.3.5.1            \n",
       "  [5] DelayedArray_0.24.0       data.table_1.14.8        \n",
       "  [7] KEGGREST_1.38.0           RCurl_1.98-1.10          \n",
       "  [9] doParallel_1.0.17         generics_0.1.3           \n",
       " [11] ScaledMatrix_1.6.0        RhpcBLASctl_0.23-42      \n",
       " [13] RSQLite_2.2.20            RANN_2.6.1               \n",
       " [15] bit_4.0.5                 tzdb_0.3.0               \n",
       " [17] spatstat.data_3.0-0       httpuv_1.6.9             \n",
       " [19] viridis_0.6.2             hms_1.1.2                \n",
       " [21] evaluate_0.20             promises_1.2.0.1         \n",
       " [23] fansi_1.0.4               progress_1.2.2           \n",
       " [25] caTools_1.18.2            igraph_1.3.5             \n",
       " [27] DBI_1.1.3                 geneplotter_1.76.0       \n",
       " [29] htmlwidgets_1.6.1         spatstat.geom_3.0-6      \n",
       " [31] ellipsis_0.3.2            backports_1.4.1          \n",
       " [33] annotate_1.76.0           aod_1.3.2                \n",
       " [35] deldir_1.0-6              sparseMatrixStats_1.10.0 \n",
       " [37] vctrs_0.5.2               ROCR_1.0-11              \n",
       " [39] abind_1.4-5               cachem_1.0.6             \n",
       " [41] withr_2.5.0               progressr_0.13.0         \n",
       " [43] sctransform_0.3.5         prettyunits_1.1.1        \n",
       " [45] goftest_1.2-3             cluster_2.1.4            \n",
       " [47] IRdisplay_1.1             lazyeval_0.2.2           \n",
       " [49] crayon_1.5.2              genefilter_1.80.0        \n",
       " [51] spatstat.explore_3.0-6    edgeR_3.40.0             \n",
       " [53] pkgconfig_2.0.3           nlme_3.1-162             \n",
       " [55] vipor_0.4.5               blme_1.0-5               \n",
       " [57] rlang_1.0.6               globals_0.16.2           \n",
       " [59] lifecycle_1.0.3           miniUI_0.1.1.1           \n",
       " [61] rsvd_1.0.5                polyclip_1.10-4          \n",
       " [63] lmtest_0.9-40             Matrix_1.5-3             \n",
       " [65] IRkernel_1.3.2            boot_1.3-28.1            \n",
       " [67] zoo_1.8-11                base64enc_0.1-3          \n",
       " [69] beeswarm_0.4.0            ggridges_0.5.4           \n",
       " [71] GlobalOptions_0.1.2       png_0.1-8                \n",
       " [73] viridisLite_0.4.1         rjson_0.2.21             \n",
       " [75] bitops_1.0-7              KernSmooth_2.23-20       \n",
       " [77] Biostrings_2.66.0         blob_1.2.3               \n",
       " [79] DelayedMatrixStats_1.20.0 shape_1.4.6              \n",
       " [81] parallelly_1.34.0         spatstat.random_3.1-3    \n",
       " [83] beachmat_2.14.0           scales_1.2.1             \n",
       " [85] memoise_2.0.1             magrittr_2.0.3           \n",
       " [87] plyr_1.8.8                ica_1.0-3                \n",
       " [89] gplots_3.1.3              zlibbioc_1.44.0          \n",
       " [91] compiler_4.2.2            dqrng_0.3.0              \n",
       " [93] RColorBrewer_1.1-3        clue_0.3-64              \n",
       " [95] lme4_1.1-31               DESeq2_1.38.0            \n",
       " [97] fitdistrplus_1.1-8        cli_3.6.0                \n",
       " [99] XVector_0.38.0            lmerTest_3.1-3           \n",
       "[101] listenv_0.9.0             patchwork_1.1.2          \n",
       "[103] pbapply_1.7-0             TMB_1.9.2                \n",
       "[105] MASS_7.3-58.2             tidyselect_1.2.0         \n",
       "[107] stringi_1.7.12            BiocSingular_1.14.0      \n",
       "[109] locfit_1.5-9.7            tools_4.2.2              \n",
       "[111] timechange_0.2.0          future.apply_1.10.0      \n",
       "[113] parallel_4.2.2            uuid_1.1-0               \n",
       "[115] bluster_1.8.0             foreach_1.5.2            \n",
       "[117] metapod_1.6.0             gridExtra_2.3            \n",
       "[119] Rtsne_0.16                digest_0.6.31            \n",
       "[121] shiny_1.7.4               Rcpp_1.0.10              \n",
       "[123] broom_1.0.3               later_1.3.0              \n",
       "[125] RcppAnnoy_0.0.20          httr_1.4.4               \n",
       "[127] AnnotationDbi_1.60.0      Rdpack_2.4               \n",
       "[129] colorspace_2.1-0          XML_3.99-0.13            \n",
       "[131] tensor_1.5                reticulate_1.28          \n",
       "[133] splines_4.2.2             statmod_1.5.0            \n",
       "[135] uwot_0.1.14               spatstat.utils_3.0-1     \n",
       "[137] scater_1.26.0             sp_1.6-0                 \n",
       "[139] plotly_4.10.1             xtable_1.8-4             \n",
       "[141] jsonlite_1.8.4            nloptr_2.0.3             \n",
       "[143] R6_2.5.1                  pillar_1.8.1             \n",
       "[145] htmltools_0.5.4           mime_0.12                \n",
       "[147] glue_1.6.2                fastmap_1.1.0            \n",
       "[149] minqa_1.2.5               BiocParallel_1.32.5      \n",
       "[151] BiocNeighbors_1.16.0      codetools_0.2-19         \n",
       "[153] utf8_1.2.3                lattice_0.20-45          \n",
       "[155] spatstat.sparse_3.0-0     numDeriv_2016.8-1.1      \n",
       "[157] pbkrtest_0.5.2            ggbeeswarm_0.7.1         \n",
       "[159] leiden_0.4.3              gtools_3.9.4             \n",
       "[161] survival_3.5-3            glmmTMB_1.1.5            \n",
       "[163] repr_1.1.6                munsell_0.5.0            \n",
       "[165] GetoptLong_1.0.5          GenomeInfoDbData_1.2.9   \n",
       "[167] iterators_1.0.14          variancePartition_1.28.0 \n",
       "[169] reshape2_1.4.4            gtable_0.3.1             \n",
       "[171] rbibutils_2.2.13         "
      ]
     },
     "metadata": {},
     "output_type": "display_data"
    }
   ],
   "source": [
    "sessionInfo()"
   ]
  },
  {
   "cell_type": "code",
   "execution_count": null,
   "metadata": {},
   "outputs": [],
   "source": [
    "rc.integrated <- readRDS(\"../../CheWei/scRNA-seq/Integrated_Objects/rc.integrated_8S_CVP_BRI1_seu3_annotated_20230316.rds\")"
   ]
  },
  {
   "cell_type": "code",
   "execution_count": null,
   "metadata": {},
   "outputs": [],
   "source": [
    "rc.integrated"
   ]
  },
  {
   "cell_type": "code",
   "execution_count": null,
   "metadata": {},
   "outputs": [],
   "source": [
    "table(rc.integrated$orig.ident, rc.integrated$geno)"
   ]
  },
  {
   "cell_type": "code",
   "execution_count": null,
   "metadata": {},
   "outputs": [],
   "source": [
    "table(rc.integrated$orig.ident, rc.integrated$source)"
   ]
  },
  {
   "cell_type": "code",
   "execution_count": null,
   "metadata": {},
   "outputs": [],
   "source": [
    "feature_names <- read_tsv(\"../data/features.tsv.gz\", col_names = c(\"AGI\", \"Name\", \"Type\")) %>%\n",
    "  select(-Type) %>%\n",
    "  distinct()"
   ]
  },
  {
   "cell_type": "code",
   "execution_count": null,
   "metadata": {
    "tags": []
   },
   "outputs": [],
   "source": [
    "rc.integrated$geno <- factor(rc.integrated$geno, levels=c(\"WT\", \"bri1_T\", \"pCVP2_BRI1_Citrine_bri1_T\"))"
   ]
  },
  {
   "cell_type": "markdown",
   "metadata": {},
   "source": [
    "## Cell and developmental stage metadata\n",
    "\n",
    "- Developmental stage: `time_zone`\n",
    "- Cell type:`cell_type`\n",
    "- Combination of cell type and developmental stage: `time_zone_cell_type`"
   ]
  },
  {
   "cell_type": "code",
   "execution_count": null,
   "metadata": {},
   "outputs": [],
   "source": [
    "order <- c(\"Quiescent Center\", \"Ground Tissue\",\"Columella\", \"Lateral Root Cap\", \"Atrichoblast\", \"Trichoblast\", \"Cortex\", \"Endodermis\", \"Phloem\",\"Protophloem\", \"Xylem\", \"Procambium\",\"Pericycle\",\"Phloem Pole Pericycle\", \"Protoxylem\", \"Metaxylem\", \"Unknown\")\n",
    "palette <- c(\"#9400D3\", \"#DCD0FF\",\"#5AB953\", \"#BFEF45\", \"#008080\", \"#21B6A8\", \"#82B6FF\", \"#0000FF\",\"#E6194B\", \"#DD77EC\", \"#9A6324\", \"#FFE119\", \"#FF9900\", \"#FFD4E3\", \"#9A6324\", \"#DDAA6F\", \"#EEEEEE\")\n",
    "rc.integrated$cell_type <- factor(rc.integrated$cell_type, levels = order[sort(match(unique(rc.integrated$cell_type),order))])\n",
    "color <- palette[sort(match(unique(rc.integrated$cell_type),order))]"
   ]
  },
  {
   "cell_type": "code",
   "execution_count": null,
   "metadata": {},
   "outputs": [],
   "source": [
    "options(repr.plot.width=16.5, repr.plot.height=6)\n",
    "(Celltype_umap <- DimPlot(rc.integrated, \n",
    "                      reduction = \"umap\", \n",
    "                      group.by = \"cell_type\", \n",
    "                      cols = color, split.by = 'geno', \n",
    "                      ncol=3, \n",
    "                      pt.size = 0.5))\n",
    "\n",
    "ggsave(\"../output/CVP/Cell_type_umap_square_all_samples.pdf\", width=16.5, height=6)"
   ]
  },
  {
   "cell_type": "code",
   "execution_count": null,
   "metadata": {},
   "outputs": [],
   "source": [
    "options(repr.plot.width = 18, repr.plot.height = 6)\n",
    "\n",
    "DefaultAssay(rc.integrated) <- \"SCT\"\n",
    "# expression of the transgene\n",
    "FeaturePlot(rc.integrated, features=\"BRI1-mCitrine\", split.by = \"geno\", order=T, max.cutoff = \"q90\", pt.size = 0.5)\n",
    "\n",
    "ggsave(\"../output/CVP/BRI1-mCitrine_expression_all_samples.pdf\", width=18.3, height=6)"
   ]
  },
  {
   "cell_type": "code",
   "execution_count": null,
   "metadata": {},
   "outputs": [],
   "source": [
    "# expression of CVP2\n",
    "options(repr.plot.width = 18, repr.plot.height = 6)\n",
    "\n",
    "DefaultAssay(rc.integrated) <- \"SCT\"\n",
    "# expression of the transgene\n",
    "FeaturePlot(rc.integrated, features=\"AT1G05470\", split.by = \"geno\", order=T, max.cutoff = \"q90\", pt.size = 0.5)\n",
    "\n",
    "ggsave(\"../output/CVP/CVP2_AT1G05470_expression_all_samples.pdf\", width=18.3, height=6)"
   ]
  },
  {
   "cell_type": "code",
   "execution_count": null,
   "metadata": {},
   "outputs": [],
   "source": [
    "options(repr.plot.width=30, repr.plot.height=7)\n",
    "\n",
    "DimPlot(rc.integrated, reduction = \"umap\", group.by = \"cell_type\", cols = color, split.by = 'orig.ident', pt.size = 0.75, ncol=8)"
   ]
  },
  {
   "cell_type": "code",
   "execution_count": null,
   "metadata": {},
   "outputs": [],
   "source": [
    "DefaultAssay(rc.integrated) <- \"SCT\"\n",
    "# expression of the transgene\n",
    "FeaturePlot(rc.integrated, features=\"BRI1-mCitrine\", split.by = \"orig.ident\", order=T, max.cutoff = \"q80\", pt.size = 0.5)"
   ]
  },
  {
   "cell_type": "code",
   "execution_count": null,
   "metadata": {},
   "outputs": [],
   "source": [
    "DefaultAssay(rc.integrated) <- \"SCT\"\n",
    "# expression of the transgene\n",
    "FeaturePlot(rc.integrated, features=\"AT1G05470\", split.by = \"orig.ident\", order=T, max.cutoff = \"q80\", pt.size = 0.5)"
   ]
  },
  {
   "cell_type": "code",
   "execution_count": null,
   "metadata": {},
   "outputs": [],
   "source": [
    "table(rc.integrated$orig.ident, rc.integrated$cell_type)"
   ]
  },
  {
   "cell_type": "code",
   "execution_count": null,
   "metadata": {},
   "outputs": [],
   "source": [
    "table(rc.integrated$orig.ident, rc.integrated$time_zone)"
   ]
  },
  {
   "cell_type": "markdown",
   "metadata": {},
   "source": [
    "## Convert to sce"
   ]
  },
  {
   "cell_type": "code",
   "execution_count": null,
   "metadata": {},
   "outputs": [],
   "source": [
    "#  construct sce manually\n",
    "my_metadata <- data.frame(sample_id = rc.integrated$orig.ident,\n",
    "                              group_id = rc.integrated$geno,\n",
    "                              cluster_id = rc.integrated$cell_type, \n",
    "                             date=rc.integrated$rep) # include experimental rep as co-variate\n",
    "\n",
    "sce <- SingleCellExperiment(assays = list(counts = rc.integrated@assays$RNA@counts),\n",
    "\t                            colData = my_metadata)"
   ]
  },
  {
   "cell_type": "code",
   "execution_count": null,
   "metadata": {},
   "outputs": [],
   "source": [
    "    (sce <- prepSCE(sce, \n",
    "        kid = \"cluster_id\", # subpopulation assignments\n",
    "        gid = \"group_id\",   # group IDs (ctrl/stim)\n",
    "        sid = \"sample_id\",    # sample IDs (ctrl/stim.1234)\n",
    "        drop = FALSE))        # drop all other colData columns"
   ]
  },
  {
   "cell_type": "markdown",
   "metadata": {},
   "source": [
    "## pre-filtering"
   ]
  },
  {
   "cell_type": "code",
   "execution_count": null,
   "metadata": {},
   "outputs": [],
   "source": [
    "# remove undetected genes\n",
    "sce <- sce[rowSums(counts(sce) > 0) > 0, ]\n",
    "dim(sce)"
   ]
  },
  {
   "cell_type": "code",
   "execution_count": null,
   "metadata": {},
   "outputs": [],
   "source": [
    "# create pseudobulk profiles\n",
    "pb <- aggregateData(sce,\n",
    "    assay = \"counts\", fun = \"sum\",\n",
    "    by = c(\"cluster_id\", \"sample_id\"))\n",
    "# one sheet per subpopulation\n",
    "assayNames(pb)"
   ]
  },
  {
   "cell_type": "code",
   "execution_count": null,
   "metadata": {},
   "outputs": [],
   "source": [
    "# pseudobulks for 1st subpopulation\n",
    "t(head(assay(pb)))"
   ]
  },
  {
   "cell_type": "code",
   "execution_count": null,
   "metadata": {},
   "outputs": [],
   "source": [
    "# experiment info for contrasts, add dates from csv\n",
    "\n",
    "ei <- metadata(sce)$experiment_info\n",
    "\n",
    "ei\n",
    "\n",
    "ei$rep <- c(1, 1, 1, 2, 2, 2, 3, 3)\n",
    "ei\n",
    "#sample_date <- select(bscs, sample_id=sample, date=rep)\n",
    "\n",
    "#ei <- left_join(ei, sample_date)\n",
    "\n",
    "#ei"
   ]
  },
  {
   "cell_type": "code",
   "execution_count": null,
   "metadata": {},
   "outputs": [],
   "source": [
    "mm <- model.matrix(~ 0 + ei$group_id + ei$rep)\n",
    "dimnames(mm) <- list(ei$sample_id, c(levels(ei$group_id), \"rep\"))\n",
    "\n",
    "mm"
   ]
  },
  {
   "cell_type": "code",
   "execution_count": null,
   "metadata": {},
   "outputs": [],
   "source": [
    "contrast <- makeContrasts(\"pCVP2_BRI1_Citrine_bri1_T-bri1_T\", levels = mm)\n",
    "\n",
    "contrast"
   ]
  },
  {
   "cell_type": "code",
   "execution_count": null,
   "metadata": {},
   "outputs": [],
   "source": [
    "res <- pbDS(pb, design = mm, \n",
    "            contrast = contrast, \n",
    "            method=\"edgeR\", \n",
    "            min_cells=5, \n",
    "            filter = c(\"none\"))"
   ]
  },
  {
   "cell_type": "markdown",
   "metadata": {},
   "source": [
    "### DEG results"
   ]
  },
  {
   "cell_type": "code",
   "execution_count": null,
   "metadata": {},
   "outputs": [],
   "source": [
    "# DEG results with gene freqs\n",
    "(res_to_write_frq <- resDS(sce, res, bind = \"row\", cpm=TRUE, frq=T))"
   ]
  },
  {
   "cell_type": "code",
   "execution_count": null,
   "metadata": {},
   "outputs": [],
   "source": [
    "## all genes as background\n",
    "\n",
    "all_bg <- res_to_write_frq"
   ]
  },
  {
   "cell_type": "code",
   "execution_count": null,
   "metadata": {},
   "outputs": [],
   "source": [
    "all_bg %>% filter(gene==\"BRI1-mCitrine\") %>%\n",
    "arrange(desc(briTR.cpm))"
   ]
  },
  {
   "cell_type": "code",
   "execution_count": null,
   "metadata": {},
   "outputs": [],
   "source": [
    "length(unique(all_bg$gene))"
   ]
  },
  {
   "cell_type": "code",
   "execution_count": null,
   "metadata": {},
   "outputs": [],
   "source": [
    "#total DE genes p_adj.loc < 0.05, abs(logFC) > 1.5\n",
    "sig_DE <- filter(res_to_write_frq, p_adj.loc<=0.05 & abs(logFC) > log2(1.5))\n",
    "sig_DE <- left_join(sig_DE, feature_names, by=c(\"gene\"=\"AGI\"))\n",
    "\n",
    "length(unique(sig_DE$gene))"
   ]
  },
  {
   "cell_type": "code",
   "execution_count": null,
   "metadata": {},
   "outputs": [],
   "source": [
    "# filter gene freqs to avoid calling lowly detected genes\n",
    "sig_DE_fil <- filter(sig_DE, WT.frq >=0.1 | bri1_T.frq >=0.1 | pCVP2_BRI1_Citrine_bri1_T.frq>=0.1)"
   ]
  },
  {
   "cell_type": "code",
   "execution_count": null,
   "metadata": {},
   "outputs": [],
   "source": [
    "length(unique(sig_DE_fil$gene))"
   ]
  },
  {
   "cell_type": "code",
   "execution_count": null,
   "metadata": {},
   "outputs": [],
   "source": [
    "# load TFs\n",
    "TF_list <- read_csv(\"../data/Kay_TF_thalemine_annotations.csv\", col_names = c(\"gene\", \"TF_Name\", \"Description\")) "
   ]
  },
  {
   "cell_type": "code",
   "execution_count": null,
   "metadata": {},
   "outputs": [],
   "source": [
    "sig_DE_fil <- left_join(sig_DE_fil, TF_list)"
   ]
  },
  {
   "cell_type": "code",
   "execution_count": null,
   "metadata": {},
   "outputs": [],
   "source": [
    "# label up vs down\n",
    "sig_DE_fil <- sig_DE_fil %>%\n",
    "  mutate(up_dn_label = case_when(logFC >=log2(1.5) ~ \"Up\",  \n",
    "                                       logFC <=log2(1/1.5) ~ \"Down\",\n",
    "                                       TRUE ~ \"Not DE\"))\n",
    "\n",
    "sig_DE_fil$clust_up_dn <- paste(sig_DE_fil$cluster_id, sig_DE_fil$up_dn_label, sep=\"_\")\n",
    "\n",
    "sig_DE_fil"
   ]
  },
  {
   "cell_type": "code",
   "execution_count": null,
   "metadata": {},
   "outputs": [],
   "source": [
    "sig_DE_fil\n",
    "write.csv(sig_DE_fil, file = \"../output/CVP/pCVP2_Citrine_celltype_EdgeR_q0.05_FC1.5_r_v_4_20230317.csv\")"
   ]
  },
  {
   "cell_type": "code",
   "execution_count": null,
   "metadata": {},
   "outputs": [],
   "source": [
    "# add DE and up/dn to total list\n",
    "sig_to_join <- sig_DE_fil %>%\n",
    "mutate(clust_gene=paste(cluster_id, gene, sep=\"_\")) %>%\n",
    "select(clust_gene, up_dn_label, clust_up_dn)"
   ]
  },
  {
   "cell_type": "code",
   "execution_count": null,
   "metadata": {},
   "outputs": [],
   "source": [
    "# join all genes list to DE labels\n",
    "all_bg <- mutate(all_bg, clust_gene=paste(cluster_id, gene, sep=\"_\"))\n",
    "\n",
    "all_bg <- left_join(all_bg, feature_names, by=c(\"gene\"=\"AGI\"))\n",
    "\n",
    "all_bg$DE <- all_bg$clust_gene %in% sig_to_join$clust_gene\n",
    "\n",
    "\n",
    "all_bg <- all_bg %>%\n",
    "left_join(sig_to_join, by=\"clust_gene\") %>%\n",
    "arrange(all_bg, p_adj.loc)\n",
    "\n",
    "write.csv(all_bg, file = \"../output/CVP/all_genes_pCVP2_Citrine_celltype_EdgeR_q0.05_FC1.5_r_v_4_20230317.csv\")"
   ]
  },
  {
   "cell_type": "markdown",
   "metadata": {},
   "source": [
    "# Plotting\n",
    "\n",
    "We focus on the Benfey lab samples that were collected side-by-side for plotting"
   ]
  },
  {
   "cell_type": "code",
   "execution_count": null,
   "metadata": {},
   "outputs": [],
   "source": [
    "integrated.de <- subset(rc.integrated, \n",
    "                        subset = orig.ident %in% c(\"sc_130\",\n",
    "                                              \"sc_131\",\n",
    "                                              \"sc_132\",\n",
    "                                              \"sc_134\",\n",
    "                                              \"sc_135\",\n",
    "                                              \"sc_136\"))"
   ]
  },
  {
   "cell_type": "code",
   "execution_count": null,
   "metadata": {},
   "outputs": [],
   "source": [
    "integrated.de$geno <- factor(integrated.de$geno, \n",
    "                             levels=c(\"WT\", \"bri1_T\", \"pCVP2_BRI1_Citrine_bri1_T\"))"
   ]
  },
  {
   "cell_type": "code",
   "execution_count": null,
   "metadata": {},
   "outputs": [],
   "source": [
    "options(repr.plot.width=16.5, repr.plot.height=6)\n",
    "(Celltype_umap <- DimPlot(integrated.de, \n",
    "                      reduction = \"umap\", \n",
    "                      group.by = \"cell_type\", \n",
    "                      cols = color, split.by = 'genotype', \n",
    "                      ncol=3, \n",
    "                      pt.size = 0.5))\n",
    "\n",
    "ggsave(\"../output/CVP/Cell_type_umap_square.pdf\", width=16.5, height=6)"
   ]
  },
  {
   "cell_type": "code",
   "execution_count": null,
   "metadata": {},
   "outputs": [],
   "source": [
    "options(repr.plot.width = 18, repr.plot.height = 6)\n",
    "\n",
    "DefaultAssay(integrated.de) <- \"SCT\"\n",
    "# expression of the transgene\n",
    "FeaturePlot(integrated.de, features=\"BRI1-mCitrine\", split.by = \"genotype\", order=T, max.cutoff = \"q90\", pt.size = 0.5)\n",
    "\n",
    "ggsave(\"../output/CVP/BRI1-mCitrine_expression.pdf\", width=18.3, height=6)"
   ]
  },
  {
   "cell_type": "code",
   "execution_count": null,
   "metadata": {},
   "outputs": [],
   "source": [
    "# expression of CVP2\n",
    "options(repr.plot.width = 18, repr.plot.height = 6)\n",
    "\n",
    "DefaultAssay(integrated.de) <- \"SCT\"\n",
    "# expression of the transgene\n",
    "FeaturePlot(integrated.de, features=\"AT1G05470\", split.by = \"genotype\", order=T, max.cutoff = \"q90\", pt.size = 0.5)\n",
    "\n",
    "ggsave(\"../output/CVP/CVP2_AT1G05470_expression.pdf\", width=18.3, height=6)"
   ]
  }
 ],
 "metadata": {
  "kernelspec": {
   "display_name": "R",
   "language": "R",
   "name": "ir"
  },
  "language_info": {
   "codemirror_mode": "r",
   "file_extension": ".r",
   "mimetype": "text/x-r-source",
   "name": "R",
   "pygments_lexer": "r",
   "version": "4.2.2"
  }
 },
 "nbformat": 4,
 "nbformat_minor": 4
}
